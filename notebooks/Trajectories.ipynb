{
 "cells": [
  {
   "cell_type": "code",
   "execution_count": 1,
   "metadata": {},
   "outputs": [],
   "source": [
    "import matplotlib\n",
    "import matplotlib.pyplot as plt\n",
    "import numpy as np\n",
    "import importlib\n",
    "import sys\n",
    "\n",
    "sys.path.append('../')\n",
    "\n",
    "\n",
    "try:\n",
    "    importlib.reload(star_props.helium_flash)\n",
    "except NameError:\n",
    "    import star_props.helium_flash\n",
    "except Exception as e:\n",
    "    print(\"Unexpected error during reload\")\n",
    "    print(e)\n",
    "    \n",
    "    \n",
    "from star_props.helium_flash import HeliumDeflagration as deflag\n",
    "from star_props.helium_flash import HeliumFlash \n",
    "\n",
    "from mpl_toolkits.axes_grid1 import make_axes_locatable\n",
    "\n",
    "matplotlib.rcParams['figure.figsize'] = [15.0, 10.0]\n",
    "matplotlib.rcParams.update({'font.size': 22})\n",
    "\n"
   ]
  },
  {
   "cell_type": "code",
   "execution_count": 2,
   "metadata": {},
   "outputs": [
    {
     "name": "stdout",
     "output_type": "stream",
     "text": [
      "334701270000.0 41.57139887757223\n"
     ]
    },
    {
     "data": {
      "image/png": "[encoded data removed]",
      "text/plain": [
       "<Figure size 432x288 with 1 Axes>"
      ]
     },
     "metadata": {},
     "output_type": "display_data"
    }
   ],
   "source": [
    "rsol=6.957e10 #solar radius in cm\n",
    "c = 2.9979e10\n",
    "\n",
    "\n",
    "flash = HeliumFlash()\n",
    "\n",
    "gamma = 1/360*(2*np.pi) #incoming angle\n",
    "r0,vr0       = [50*rsol, -np.cos(gamma)*c*1e-3]\n",
    "theta0,phi0 = [0, np.sin(gamma)*c*1e-3/r0]\n",
    "\n",
    "traj = flash.trajectory(gamma, [r0,vr0,theta0,phi0])\n",
    "flash.plot_traj(traj)\n",
    "\n"
   ]
  },
  {
   "cell_type": "code",
   "execution_count": null,
   "metadata": {},
   "outputs": [],
   "source": []
  }
 ],
 "metadata": {
  "kernelspec": {
   "display_name": "Python 3",
   "language": "python",
   "name": "python3"
  },
  "language_info": {
   "codemirror_mode": {
    "name": "ipython",
    "version": 3
   },
   "file_extension": ".py",
   "mimetype": "text/x-python",
   "name": "python",
   "nbconvert_exporter": "python",
   "pygments_lexer": "ipython3",
   "version": "3.6.9"
  }
 },
 "nbformat": 4,
 "nbformat_minor": 2
}
