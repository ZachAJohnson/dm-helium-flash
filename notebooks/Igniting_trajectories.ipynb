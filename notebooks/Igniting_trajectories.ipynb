{
 "cells": [
  {
   "cell_type": "code",
   "execution_count": null,
   "metadata": {},
   "outputs": [],
   "source": [
    "rsol=6.957e10 #solar radius in cm\n",
    "c = 2.9979e10\n",
    "\n",
    "flash = HeliumFlash()\n",
    "\n",
    "\n",
    "gamma = 5/360*(2*np.pi) #incoming angle\n",
    "r0,vr0       = [50*rsol, -np.cos(gamma)*c*1e-3]\n",
    "theta0,phi0 = [0, np.sin(gamma)*c*1e-3/r0]\n",
    "\n",
    "#traj = flash.trajectory(gamma, [r0,vr0,theta0,phi0])\n",
    "#flash.plot_traj(traj)\n",
    "\n",
    "\n"
   ]
  }
 ],
 "metadata": {
  "kernelspec": {
   "display_name": "Python 3",
   "language": "python",
   "name": "python3"
  },
  "language_info": {
   "codemirror_mode": {
    "name": "ipython",
    "version": 3
   },
   "file_extension": ".py",
   "mimetype": "text/x-python",
   "name": "python",
   "nbconvert_exporter": "python",
   "pygments_lexer": "ipython3",
   "version": "3.6.9"
  }
 },
 "nbformat": 4,
 "nbformat_minor": 2
}
